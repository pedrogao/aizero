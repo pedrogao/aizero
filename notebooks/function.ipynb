{
 "cells": [
  {
   "attachments": {},
   "cell_type": "markdown",
   "metadata": {},
   "source": [
    "### step5 Function"
   ]
  },
  {
   "cell_type": "code",
   "execution_count": 3,
   "metadata": {},
   "outputs": [],
   "source": [
    "import numpy as np\n",
    "\n",
    "class Variable:\n",
    "  def __init__(self, data):\n",
    "    self.data = data\n",
    "\n",
    "class Function:\n",
    "  def __call__(self, input: Variable) -> Variable:\n",
    "    x = input.data\n",
    "    y = self.forward(x)\n",
    "    output = Variable(y)\n",
    "    self.input = input\n",
    "    self.output = output\n",
    "    return output\n",
    "\n",
    "  def backward(self, x):\n",
    "    raise NotImplementedError()\n",
    "\n",
    "class Square(Function):\n",
    "  def forward(self, x):\n",
    "    return x ** 2\n",
    "\n",
    "class Exp(Function):\n",
    "  def forward(self, x):\n",
    "    return np.exp(x)\n",
    "\n",
    "# 微分法求导\n",
    "def numerical_diff(f: Function, x: Variable, eps=1e-4):\n",
    "  x0 = Variable(x.data - eps)\n",
    "  x1 = Variable(x.data + eps)\n",
    "  y0 = f(x0)\n",
    "  y1 = f(x1)\n",
    "  return (y1.data - y0.data) / (2 * eps)"
   ]
  },
  {
   "cell_type": "code",
   "execution_count": 4,
   "metadata": {},
   "outputs": [
    {
     "data": {
      "text/plain": [
       "4.000000000004"
      ]
     },
     "execution_count": 4,
     "metadata": {},
     "output_type": "execute_result"
    }
   ],
   "source": [
    "f = Square()\n",
    "x = Variable(np.array(2.0))\n",
    "dy = numerical_diff(f, x)\n",
    "dy"
   ]
  },
  {
   "cell_type": "code",
   "execution_count": 5,
   "metadata": {},
   "outputs": [
    {
     "data": {
      "text/plain": [
       "3.2974426293330694"
      ]
     },
     "execution_count": 5,
     "metadata": {},
     "output_type": "execute_result"
    }
   ],
   "source": [
    "def f(x):\n",
    "  A = Square()\n",
    "  B = Exp()\n",
    "  C = Square()\n",
    "  return C(B(A(x)))\n",
    "\n",
    "x = Variable(np.array(0.5))\n",
    "dy = numerical_diff(f, x)\n",
    "dy"
   ]
  },
  {
   "attachments": {},
   "cell_type": "markdown",
   "metadata": {},
   "source": [
    "### step6 backward"
   ]
  },
  {
   "cell_type": "code",
   "execution_count": 13,
   "metadata": {},
   "outputs": [],
   "source": [
    "class Variable:\n",
    "  def __init__(self, data):\n",
    "    self.data = data\n",
    "    self.grad = None\n",
    "    \n",
    "class Function:\n",
    "  def __call__(self, input: Variable) -> Variable:\n",
    "    x = input.data\n",
    "    y = self.forward(x)\n",
    "    output = Variable(y)\n",
    "    self.input = input\n",
    "    self.output = output\n",
    "    return output\n",
    "\n",
    "  def forward(self, x):\n",
    "    raise NotImplementedError()\n",
    "\n",
    "  def backward(self, gy):\n",
    "    raise NotImplementedError()\n",
    "\n",
    "class Square(Function):\n",
    "  def forward(self, x):\n",
    "    return x ** 2\n",
    "\n",
    "  def backward(self, gy):\n",
    "    x = self.input.data\n",
    "    gx = 2 * x * gy\n",
    "    return gx\n",
    "  \n",
    "class Exp(Function):\n",
    "  def forward(self, x):\n",
    "    return np.exp(x)\n",
    "  \n",
    "  def backward(self, gy):\n",
    "    x = self.input.data\n",
    "    gx = np.exp(x) * gy\n",
    "    return gx"
   ]
  },
  {
   "cell_type": "code",
   "execution_count": 14,
   "metadata": {},
   "outputs": [
    {
     "data": {
      "text/plain": [
       "1.648721270700128"
      ]
     },
     "execution_count": 14,
     "metadata": {},
     "output_type": "execute_result"
    }
   ],
   "source": [
    "A = Square()\n",
    "B = Exp()\n",
    "C = Square()\n",
    "\n",
    "x = Variable(np.array(0.5))\n",
    "a = A(x)\n",
    "b = B(a)\n",
    "y = C(b)\n",
    "y.data"
   ]
  },
  {
   "cell_type": "code",
   "execution_count": 12,
   "metadata": {},
   "outputs": [
    {
     "data": {
      "text/plain": [
       "1.648721270700128"
      ]
     },
     "execution_count": 12,
     "metadata": {},
     "output_type": "execute_result"
    }
   ],
   "source": [
    "import math as math\n",
    "(math.exp(0.5 ** 2) ** 2)"
   ]
  },
  {
   "cell_type": "code",
   "execution_count": 15,
   "metadata": {},
   "outputs": [
    {
     "data": {
      "text/plain": [
       "3.297442541400256"
      ]
     },
     "execution_count": 15,
     "metadata": {},
     "output_type": "execute_result"
    }
   ],
   "source": [
    "y.grad = np.array(1.0)\n",
    "b.grad = C.backward(y.grad)\n",
    "a.grad = B.backward(b.grad)\n",
    "x.grad = A.backward(a.grad)\n",
    "x.grad"
   ]
  },
  {
   "attachments": {},
   "cell_type": "markdown",
   "metadata": {},
   "source": [
    "### step7 creator"
   ]
  },
  {
   "cell_type": "code",
   "execution_count": 24,
   "metadata": {},
   "outputs": [],
   "source": [
    "class Variable:\n",
    "  def __init__(self, data):\n",
    "    self.data = data\n",
    "    self.grad = None\n",
    "    self.creator = None\n",
    "\n",
    "  def set_creator(self, func: Function):\n",
    "    self.creator = func\n",
    "\n",
    "  def backward(self):\n",
    "    f = self.creator\n",
    "    if f is not None:\n",
    "      x = f.input\n",
    "      x.grad = f.backward(self.grad)\n",
    "      x.backward()\n",
    "\n",
    "class Function:\n",
    "  def __call__(self, input: Variable) -> Variable:\n",
    "    x = input.data\n",
    "    y = self.forward(x)\n",
    "    output = Variable(y)\n",
    "    output.set_creator(self)\n",
    "    self.input = input\n",
    "    self.output = output\n",
    "    return output\n",
    "\n",
    "  def forward(self, x):\n",
    "    raise NotImplementedError()\n",
    "\n",
    "  def backward(self, gy):\n",
    "    raise NotImplementedError()\n",
    "  \n",
    "class Square(Function):\n",
    "  def forward(self, x):\n",
    "    return x ** 2\n",
    "\n",
    "  def backward(self, gy):\n",
    "    x = self.input.data\n",
    "    gx = 2 * x * gy\n",
    "    return gx\n",
    "  \n",
    "class Exp(Function):\n",
    "  def forward(self, x):\n",
    "    return np.exp(x)\n",
    "  \n",
    "  def backward(self, gy):\n",
    "    x = self.input.data\n",
    "    gx = np.exp(x) * gy\n",
    "    return gx"
   ]
  },
  {
   "cell_type": "code",
   "execution_count": 25,
   "metadata": {},
   "outputs": [
    {
     "name": "stdout",
     "output_type": "stream",
     "text": [
      "3.297442541400256\n"
     ]
    }
   ],
   "source": [
    "A = Square()\n",
    "B = Exp()\n",
    "C = Square()\n",
    "\n",
    "x = Variable(np.array(0.5))\n",
    "a = A(x)\n",
    "b = B(a)\n",
    "y = C(b)\n",
    "\n",
    "y.grad = np.array(1.0)\n",
    "y.backward()\n",
    "\n",
    "print(x.grad)"
   ]
  },
  {
   "attachments": {},
   "cell_type": "markdown",
   "metadata": {},
   "source": [
    "### step8 "
   ]
  },
  {
   "cell_type": "code",
   "execution_count": 26,
   "metadata": {},
   "outputs": [
    {
     "name": "stdout",
     "output_type": "stream",
     "text": [
      "3.297442541400256\n"
     ]
    }
   ],
   "source": [
    "class Variable:\n",
    "  def __init__(self, data):\n",
    "    self.data = data\n",
    "    self.grad = None\n",
    "    self.creator = None\n",
    "\n",
    "  def set_creator(self, func: Function):\n",
    "    self.creator = func\n",
    "\n",
    "  def backward(self):\n",
    "    funcs = [self.creator]\n",
    "    while funcs:\n",
    "      f = funcs.pop()\n",
    "      x, y = f.input, f.output\n",
    "      x.grad = f.backward(y.grad)\n",
    "\n",
    "      if x.creator is not None:\n",
    "        funcs.append(x.creator)\n",
    "    \n",
    "A = Square()\n",
    "B = Exp()\n",
    "C = Square()\n",
    "\n",
    "x = Variable(np.array(0.5))\n",
    "a = A(x)\n",
    "b = B(a)\n",
    "y = C(b)\n",
    "\n",
    "y.grad = np.array(1.0)\n",
    "y.backward()\n",
    "\n",
    "print(x.grad)"
   ]
  },
  {
   "attachments": {},
   "cell_type": "markdown",
   "metadata": {},
   "source": [
    "### step9"
   ]
  },
  {
   "cell_type": "code",
   "execution_count": 27,
   "metadata": {},
   "outputs": [
    {
     "name": "stdout",
     "output_type": "stream",
     "text": [
      "3.297442541400256\n"
     ]
    }
   ],
   "source": [
    "def square(x):\n",
    "  return Square()(x)\n",
    "\n",
    "def exp(x):\n",
    "  return Exp()(x)\n",
    "\n",
    "x = Variable(np.array(0.5))\n",
    "y = square(exp(square(x)))\n",
    "y.grad = np.array(1.0)\n",
    "y.backward()\n",
    "print(x.grad)"
   ]
  },
  {
   "cell_type": "code",
   "execution_count": 29,
   "metadata": {},
   "outputs": [
    {
     "name": "stdout",
     "output_type": "stream",
     "text": [
      "3.297442541400256\n"
     ]
    }
   ],
   "source": [
    "def as_array(x):\n",
    "  if np.isscalar(x):\n",
    "    return np.array(x)\n",
    "  return x\n",
    "\n",
    "class Variable:\n",
    "  def __init__(self, data):\n",
    "    if data is not None:\n",
    "      if not isinstance(data, np.ndarray):\n",
    "        raise TypeError(f'{type(data)} is not supported')\n",
    "      \n",
    "    self.data = data\n",
    "    self.grad = None\n",
    "    self.creator = None\n",
    "\n",
    "  def set_creator(self, func: Function):\n",
    "    self.creator = func\n",
    "\n",
    "  def backward(self):\n",
    "    if self.grad is None:\n",
    "      self.grad = np.ones_like(self.data)\n",
    "\n",
    "    funcs = [self.creator]\n",
    "    while funcs:\n",
    "      f = funcs.pop()\n",
    "      x, y = f.input, f.output\n",
    "      x.grad = f.backward(y.grad)\n",
    "\n",
    "      if x.creator is not None:\n",
    "        funcs.append(x.creator)\n",
    "\n",
    "class Function:\n",
    "  def __call__(self, input: Variable) -> Variable:\n",
    "    x = input.data\n",
    "    y = self.forward(x)\n",
    "    output = Variable(as_array(y))\n",
    "    output.set_creator(self)\n",
    "    self.input = input\n",
    "    self.output = output\n",
    "    return output\n",
    "\n",
    "  def forward(self, x):\n",
    "    raise NotImplementedError()\n",
    "\n",
    "  def backward(self, gy):\n",
    "    raise NotImplementedError()\n",
    "  \n",
    "class Square(Function):\n",
    "  def forward(self, x):\n",
    "    return x ** 2\n",
    "\n",
    "  def backward(self, gy):\n",
    "    x = self.input.data\n",
    "    gx = 2 * x * gy\n",
    "    return gx\n",
    "  \n",
    "class Exp(Function):\n",
    "  def forward(self, x):\n",
    "    return np.exp(x)\n",
    "  \n",
    "  def backward(self, gy):\n",
    "    x = self.input.data\n",
    "    gx = np.exp(x) * gy\n",
    "    return gx\n",
    "\n",
    "def square(x):\n",
    "  return Square()(x)\n",
    "\n",
    "def exp(x):\n",
    "  return Exp()(x)\n",
    "\n",
    "x = Variable(np.array(0.5))\n",
    "y = square(exp(square(x)))\n",
    "y.grad = np.array(1.0)\n",
    "y.backward()\n",
    "print(x.grad)"
   ]
  },
  {
   "attachments": {},
   "cell_type": "markdown",
   "metadata": {},
   "source": [
    "### step27 my_sin"
   ]
  },
  {
   "cell_type": "code",
   "execution_count": 2,
   "metadata": {},
   "outputs": [],
   "source": [
    "if '__file__' in globals():\n",
    "    import os, sys\n",
    "    sys.path.append(os.path.join(os.path.dirname(__file__), '../src'))"
   ]
  },
  {
   "cell_type": "code",
   "execution_count": 4,
   "metadata": {},
   "outputs": [
    {
     "name": "stdout",
     "output_type": "stream",
     "text": [
      "0.7071067811865475\n",
      "0.7071067811865476\n"
     ]
    }
   ],
   "source": [
    "import numpy as np\n",
    "import math\n",
    "from grad import Variable, Function\n",
    "from grad.utils import plot_dot_graph\n",
    "\n",
    "class Sin(Function):\n",
    "  def forward(self, x):\n",
    "    y = np.sin(x)\n",
    "    return y\n",
    "\n",
    "  def backward(self, gy):\n",
    "    x = self.inputs[0].data\n",
    "    gx = gy * np.cos(x)\n",
    "    return gx\n",
    "  \n",
    "def sin(x):\n",
    "  return Sin()(x)\n",
    "\n",
    "x = Variable(np.array(np.pi/4))\n",
    "y = sin(x)\n",
    "y.backward()\n",
    "\n",
    "print(y.data)\n",
    "print(x.grad)"
   ]
  },
  {
   "cell_type": "code",
   "execution_count": 5,
   "metadata": {},
   "outputs": [
    {
     "name": "stdout",
     "output_type": "stream",
     "text": [
      "0.7071064695751781\n",
      "0.7071032148228457\n"
     ]
    }
   ],
   "source": [
    "def my_sin(x, threshold=0.0001):\n",
    "  y = 0\n",
    "  for i in range(100000):\n",
    "    c = (-1) ** i / math.factorial(2 * i + 1)\n",
    "    t = c * x ** (2 * i + 1)\n",
    "    y = y + t\n",
    "    if abs(t.data) < threshold:\n",
    "      break\n",
    "  return y\n",
    "\n",
    "x = Variable(np.array(np.pi/4))\n",
    "y = my_sin(x)\n",
    "y.backward()\n",
    "\n",
    "print(y.data)\n",
    "print(x.grad)"
   ]
  },
  {
   "cell_type": "code",
   "execution_count": 6,
   "metadata": {},
   "outputs": [
    {
     "data": {
      "image/png": "[encoded data removed]",
      "text/plain": [
       "<IPython.core.display.Image object>"
      ]
     },
     "execution_count": 6,
     "metadata": {},
     "output_type": "execute_result"
    }
   ],
   "source": [
    "x.name = 'x'\n",
    "y.name = 'y'\n",
    "plot_dot_graph(y, verbose=False, to_file='my_sin.png')"
   ]
  },
  {
   "attachments": {},
   "cell_type": "markdown",
   "metadata": {},
   "source": [
    "### step33 "
   ]
  },
  {
   "cell_type": "code",
   "execution_count": 2,
   "metadata": {},
   "outputs": [
    {
     "name": "stdout",
     "output_type": "stream",
     "text": [
      "0 variable(2.0)\n",
      "1 variable(1.4545454545454546)\n",
      "2 variable(1.1510467893775467)\n",
      "3 variable(1.0253259289766978)\n",
      "4 variable(1.0009084519430513)\n",
      "5 variable(1.0000012353089454)\n",
      "6 variable(1.000000000002289)\n",
      "7 variable(1.0)\n",
      "8 variable(1.0)\n",
      "9 variable(1.0)\n"
     ]
    }
   ],
   "source": [
    "if '__file__' in globals():\n",
    "    import os, sys\n",
    "    sys.path.append(os.path.join(os.path.dirname(__file__), '../src'))\n",
    "\n",
    "import numpy as np\n",
    "from grad import Variable, Function\n",
    "\n",
    "def f(x):\n",
    "  y = x ** 4 - 2 * x ** 2\n",
    "  return y\n",
    "\n",
    "x = Variable(np.array(2.0))\n",
    "iters = 10\n",
    "\n",
    "for i in range(iters):\n",
    "  print(i, x)\n",
    "\n",
    "  y = f(x)\n",
    "  x.cleargrad()\n",
    "  y.backward(create_graph=True)\n",
    "  # 一阶导数 梯度\n",
    "  gx = x.grad\n",
    "  x.cleargrad()\n",
    "  gx.backward()\n",
    "  # 二阶导数 梯度\n",
    "  gx2 = x.grad\n",
    "  # 牛顿法\n",
    "  x.data -= gx.data / gx2.data\n",
    "    "
   ]
  }
 ],
 "metadata": {
  "kernelspec": {
   "display_name": "aizero-FmzNW-63-py3.10",
   "language": "python",
   "name": "python3"
  },
  "language_info": {
   "codemirror_mode": {
    "name": "ipython",
    "version": 3
   },
   "file_extension": ".py",
   "mimetype": "text/x-python",
   "name": "python",
   "nbconvert_exporter": "python",
   "pygments_lexer": "ipython3",
   "version": "3.10.12"
  },
  "orig_nbformat": 4,
  "vscode": {
   "interpreter": {
    "hash": "696483428f94258fb20f31ea19bb4743563cbacc675155017f0446f3f58b90c7"
   }
  }
 },
 "nbformat": 4,
 "nbformat_minor": 2
}
