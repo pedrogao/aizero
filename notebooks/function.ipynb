{
 "cells": [
  {
   "attachments": {},
   "cell_type": "markdown",
   "metadata": {},
   "source": [
    "### step5 Function"
   ]
  },
  {
   "cell_type": "code",
   "execution_count": 3,
   "metadata": {},
   "outputs": [],
   "source": [
    "import numpy as np\n",
    "\n",
    "class Variable:\n",
    "  def __init__(self, data):\n",
    "    self.data = data\n",
    "\n",
    "class Function:\n",
    "  def __call__(self, input: Variable) -> Variable:\n",
    "    x = input.data\n",
    "    y = self.forward(x)\n",
    "    output = Variable(y)\n",
    "    self.input = input\n",
    "    self.output = output\n",
    "    return output\n",
    "\n",
    "  def backward(self, x):\n",
    "    raise NotImplementedError()\n",
    "\n",
    "class Square(Function):\n",
    "  def forward(self, x):\n",
    "    return x ** 2\n",
    "\n",
    "class Exp(Function):\n",
    "  def forward(self, x):\n",
    "    return np.exp(x)\n",
    "\n",
    "# 微分法求导\n",
    "def numerical_diff(f: Function, x: Variable, eps=1e-4):\n",
    "  x0 = Variable(x.data - eps)\n",
    "  x1 = Variable(x.data + eps)\n",
    "  y0 = f(x0)\n",
    "  y1 = f(x1)\n",
    "  return (y1.data - y0.data) / (2 * eps)"
   ]
  },
  {
   "cell_type": "code",
   "execution_count": 4,
   "metadata": {},
   "outputs": [
    {
     "data": {
      "text/plain": [
       "4.000000000004"
      ]
     },
     "execution_count": 4,
     "metadata": {},
     "output_type": "execute_result"
    }
   ],
   "source": [
    "f = Square()\n",
    "x = Variable(np.array(2.0))\n",
    "dy = numerical_diff(f, x)\n",
    "dy"
   ]
  },
  {
   "cell_type": "code",
   "execution_count": 5,
   "metadata": {},
   "outputs": [
    {
     "data": {
      "text/plain": [
       "3.2974426293330694"
      ]
     },
     "execution_count": 5,
     "metadata": {},
     "output_type": "execute_result"
    }
   ],
   "source": [
    "def f(x):\n",
    "  A = Square()\n",
    "  B = Exp()\n",
    "  C = Square()\n",
    "  return C(B(A(x)))\n",
    "\n",
    "x = Variable(np.array(0.5))\n",
    "dy = numerical_diff(f, x)\n",
    "dy"
   ]
  },
  {
   "attachments": {},
   "cell_type": "markdown",
   "metadata": {},
   "source": [
    "### step6 backward"
   ]
  },
  {
   "cell_type": "code",
   "execution_count": 13,
   "metadata": {},
   "outputs": [],
   "source": [
    "class Variable:\n",
    "  def __init__(self, data):\n",
    "    self.data = data\n",
    "    self.grad = None\n",
    "    \n",
    "class Function:\n",
    "  def __call__(self, input: Variable) -> Variable:\n",
    "    x = input.data\n",
    "    y = self.forward(x)\n",
    "    output = Variable(y)\n",
    "    self.input = input\n",
    "    self.output = output\n",
    "    return output\n",
    "\n",
    "  def forward(self, x):\n",
    "    raise NotImplementedError()\n",
    "\n",
    "  def backward(self, gy):\n",
    "    raise NotImplementedError()\n",
    "\n",
    "class Square(Function):\n",
    "  def forward(self, x):\n",
    "    return x ** 2\n",
    "\n",
    "  def backward(self, gy):\n",
    "    x = self.input.data\n",
    "    gx = 2 * x * gy\n",
    "    return gx\n",
    "  \n",
    "class Exp(Function):\n",
    "  def forward(self, x):\n",
    "    return np.exp(x)\n",
    "  \n",
    "  def backward(self, gy):\n",
    "    x = self.input.data\n",
    "    gx = np.exp(x) * gy\n",
    "    return gx"
   ]
  },
  {
   "cell_type": "code",
   "execution_count": 14,
   "metadata": {},
   "outputs": [
    {
     "data": {
      "text/plain": [
       "1.648721270700128"
      ]
     },
     "execution_count": 14,
     "metadata": {},
     "output_type": "execute_result"
    }
   ],
   "source": [
    "A = Square()\n",
    "B = Exp()\n",
    "C = Square()\n",
    "\n",
    "x = Variable(np.array(0.5))\n",
    "a = A(x)\n",
    "b = B(a)\n",
    "y = C(b)\n",
    "y.data"
   ]
  },
  {
   "cell_type": "code",
   "execution_count": 12,
   "metadata": {},
   "outputs": [
    {
     "data": {
      "text/plain": [
       "1.648721270700128"
      ]
     },
     "execution_count": 12,
     "metadata": {},
     "output_type": "execute_result"
    }
   ],
   "source": [
    "import math as math\n",
    "(math.exp(0.5 ** 2) ** 2)"
   ]
  },
  {
   "cell_type": "code",
   "execution_count": 15,
   "metadata": {},
   "outputs": [
    {
     "data": {
      "text/plain": [
       "3.297442541400256"
      ]
     },
     "execution_count": 15,
     "metadata": {},
     "output_type": "execute_result"
    }
   ],
   "source": [
    "y.grad = np.array(1.0)\n",
    "b.grad = C.backward(y.grad)\n",
    "a.grad = B.backward(b.grad)\n",
    "x.grad = A.backward(a.grad)\n",
    "x.grad"
   ]
  },
  {
   "attachments": {},
   "cell_type": "markdown",
   "metadata": {},
   "source": [
    "### step7 creator"
   ]
  },
  {
   "cell_type": "code",
   "execution_count": 24,
   "metadata": {},
   "outputs": [],
   "source": [
    "class Variable:\n",
    "  def __init__(self, data):\n",
    "    self.data = data\n",
    "    self.grad = None\n",
    "    self.creator = None\n",
    "\n",
    "  def set_creator(self, func: Function):\n",
    "    self.creator = func\n",
    "\n",
    "  def backward(self):\n",
    "    f = self.creator\n",
    "    if f is not None:\n",
    "      x = f.input\n",
    "      x.grad = f.backward(self.grad)\n",
    "      x.backward()\n",
    "\n",
    "class Function:\n",
    "  def __call__(self, input: Variable) -> Variable:\n",
    "    x = input.data\n",
    "    y = self.forward(x)\n",
    "    output = Variable(y)\n",
    "    output.set_creator(self)\n",
    "    self.input = input\n",
    "    self.output = output\n",
    "    return output\n",
    "\n",
    "  def forward(self, x):\n",
    "    raise NotImplementedError()\n",
    "\n",
    "  def backward(self, gy):\n",
    "    raise NotImplementedError()\n",
    "  \n",
    "class Square(Function):\n",
    "  def forward(self, x):\n",
    "    return x ** 2\n",
    "\n",
    "  def backward(self, gy):\n",
    "    x = self.input.data\n",
    "    gx = 2 * x * gy\n",
    "    return gx\n",
    "  \n",
    "class Exp(Function):\n",
    "  def forward(self, x):\n",
    "    return np.exp(x)\n",
    "  \n",
    "  def backward(self, gy):\n",
    "    x = self.input.data\n",
    "    gx = np.exp(x) * gy\n",
    "    return gx"
   ]
  },
  {
   "cell_type": "code",
   "execution_count": 25,
   "metadata": {},
   "outputs": [
    {
     "name": "stdout",
     "output_type": "stream",
     "text": [
      "3.297442541400256\n"
     ]
    }
   ],
   "source": [
    "A = Square()\n",
    "B = Exp()\n",
    "C = Square()\n",
    "\n",
    "x = Variable(np.array(0.5))\n",
    "a = A(x)\n",
    "b = B(a)\n",
    "y = C(b)\n",
    "\n",
    "y.grad = np.array(1.0)\n",
    "y.backward()\n",
    "\n",
    "print(x.grad)"
   ]
  },
  {
   "attachments": {},
   "cell_type": "markdown",
   "metadata": {},
   "source": [
    "### step8 "
   ]
  },
  {
   "cell_type": "code",
   "execution_count": 26,
   "metadata": {},
   "outputs": [
    {
     "name": "stdout",
     "output_type": "stream",
     "text": [
      "3.297442541400256\n"
     ]
    }
   ],
   "source": [
    "class Variable:\n",
    "  def __init__(self, data):\n",
    "    self.data = data\n",
    "    self.grad = None\n",
    "    self.creator = None\n",
    "\n",
    "  def set_creator(self, func: Function):\n",
    "    self.creator = func\n",
    "\n",
    "  def backward(self):\n",
    "    funcs = [self.creator]\n",
    "    while funcs:\n",
    "      f = funcs.pop()\n",
    "      x, y = f.input, f.output\n",
    "      x.grad = f.backward(y.grad)\n",
    "\n",
    "      if x.creator is not None:\n",
    "        funcs.append(x.creator)\n",
    "    \n",
    "A = Square()\n",
    "B = Exp()\n",
    "C = Square()\n",
    "\n",
    "x = Variable(np.array(0.5))\n",
    "a = A(x)\n",
    "b = B(a)\n",
    "y = C(b)\n",
    "\n",
    "y.grad = np.array(1.0)\n",
    "y.backward()\n",
    "\n",
    "print(x.grad)"
   ]
  },
  {
   "attachments": {},
   "cell_type": "markdown",
   "metadata": {},
   "source": [
    "### step9"
   ]
  },
  {
   "cell_type": "code",
   "execution_count": 27,
   "metadata": {},
   "outputs": [
    {
     "name": "stdout",
     "output_type": "stream",
     "text": [
      "3.297442541400256\n"
     ]
    }
   ],
   "source": [
    "def square(x):\n",
    "  return Square()(x)\n",
    "\n",
    "def exp(x):\n",
    "  return Exp()(x)\n",
    "\n",
    "x = Variable(np.array(0.5))\n",
    "y = square(exp(square(x)))\n",
    "y.grad = np.array(1.0)\n",
    "y.backward()\n",
    "print(x.grad)"
   ]
  },
  {
   "cell_type": "code",
   "execution_count": 29,
   "metadata": {},
   "outputs": [
    {
     "name": "stdout",
     "output_type": "stream",
     "text": [
      "3.297442541400256\n"
     ]
    }
   ],
   "source": [
    "def as_array(x):\n",
    "  if np.isscalar(x):\n",
    "    return np.array(x)\n",
    "  return x\n",
    "\n",
    "class Variable:\n",
    "  def __init__(self, data):\n",
    "    if data is not None:\n",
    "      if not isinstance(data, np.ndarray):\n",
    "        raise TypeError(f'{type(data)} is not supported')\n",
    "      \n",
    "    self.data = data\n",
    "    self.grad = None\n",
    "    self.creator = None\n",
    "\n",
    "  def set_creator(self, func: Function):\n",
    "    self.creator = func\n",
    "\n",
    "  def backward(self):\n",
    "    if self.grad is None:\n",
    "      self.grad = np.ones_like(self.data)\n",
    "\n",
    "    funcs = [self.creator]\n",
    "    while funcs:\n",
    "      f = funcs.pop()\n",
    "      x, y = f.input, f.output\n",
    "      x.grad = f.backward(y.grad)\n",
    "\n",
    "      if x.creator is not None:\n",
    "        funcs.append(x.creator)\n",
    "\n",
    "class Function:\n",
    "  def __call__(self, input: Variable) -> Variable:\n",
    "    x = input.data\n",
    "    y = self.forward(x)\n",
    "    output = Variable(as_array(y))\n",
    "    output.set_creator(self)\n",
    "    self.input = input\n",
    "    self.output = output\n",
    "    return output\n",
    "\n",
    "  def forward(self, x):\n",
    "    raise NotImplementedError()\n",
    "\n",
    "  def backward(self, gy):\n",
    "    raise NotImplementedError()\n",
    "  \n",
    "class Square(Function):\n",
    "  def forward(self, x):\n",
    "    return x ** 2\n",
    "\n",
    "  def backward(self, gy):\n",
    "    x = self.input.data\n",
    "    gx = 2 * x * gy\n",
    "    return gx\n",
    "  \n",
    "class Exp(Function):\n",
    "  def forward(self, x):\n",
    "    return np.exp(x)\n",
    "  \n",
    "  def backward(self, gy):\n",
    "    x = self.input.data\n",
    "    gx = np.exp(x) * gy\n",
    "    return gx\n",
    "\n",
    "def square(x):\n",
    "  return Square()(x)\n",
    "\n",
    "def exp(x):\n",
    "  return Exp()(x)\n",
    "\n",
    "x = Variable(np.array(0.5))\n",
    "y = square(exp(square(x)))\n",
    "y.grad = np.array(1.0)\n",
    "y.backward()\n",
    "print(x.grad)"
   ]
  },
  {
   "attachments": {},
   "cell_type": "markdown",
   "metadata": {},
   "source": [
    "### step27 my_sin"
   ]
  },
  {
   "cell_type": "code",
   "execution_count": 2,
   "metadata": {},
   "outputs": [],
   "source": [
    "if '__file__' in globals():\n",
    "    import os, sys\n",
    "    sys.path.append(os.path.join(os.path.dirname(__file__), '../src'))"
   ]
  },
  {
   "cell_type": "code",
   "execution_count": 4,
   "metadata": {},
   "outputs": [
    {
     "name": "stdout",
     "output_type": "stream",
     "text": [
      "0.7071067811865475\n",
      "0.7071067811865476\n"
     ]
    }
   ],
   "source": [
    "import numpy as np\n",
    "import math\n",
    "from grad import Variable, Function\n",
    "from grad.utils import plot_dot_graph\n",
    "\n",
    "class Sin(Function):\n",
    "  def forward(self, x):\n",
    "    y = np.sin(x)\n",
    "    return y\n",
    "\n",
    "  def backward(self, gy):\n",
    "    x = self.inputs[0].data\n",
    "    gx = gy * np.cos(x)\n",
    "    return gx\n",
    "  \n",
    "def sin(x):\n",
    "  return Sin()(x)\n",
    "\n",
    "x = Variable(np.array(np.pi/4))\n",
    "y = sin(x)\n",
    "y.backward()\n",
    "\n",
    "print(y.data)\n",
    "print(x.grad)"
   ]
  },
  {
   "cell_type": "code",
   "execution_count": 5,
   "metadata": {},
   "outputs": [
    {
     "name": "stdout",
     "output_type": "stream",
     "text": [
      "0.7071064695751781\n",
      "0.7071032148228457\n"
     ]
    }
   ],
   "source": [
    "def my_sin(x, threshold=0.0001):\n",
    "  y = 0\n",
    "  for i in range(100000):\n",
    "    c = (-1) ** i / math.factorial(2 * i + 1)\n",
    "    t = c * x ** (2 * i + 1)\n",
    "    y = y + t\n",
    "    if abs(t.data) < threshold:\n",
    "      break\n",
    "  return y\n",
    "\n",
    "x = Variable(np.array(np.pi/4))\n",
    "y = my_sin(x)\n",
    "y.backward()\n",
    "\n",
    "print(y.data)\n",
    "print(x.grad)"
   ]
  },
  {
   "cell_type": "code",
   "execution_count": 6,
   "metadata": {},
   "outputs": [
    {
     "data": {
      "image/png": "[encoded data removed]",
      "text/plain": [
       "<IPython.core.display.Image object>"
      ]
     },
     "execution_count": 6,
     "metadata": {},
     "output_type": "execute_result"
    }
   ],
   "source": [
    "x.name = 'x'\n",
    "y.name = 'y'\n",
    "plot_dot_graph(y, verbose=False, to_file='my_sin.png')"
   ]
  },
  {
   "attachments": {},
   "cell_type": "markdown",
   "metadata": {},
   "source": [
    "### step33 "
   ]
  },
  {
   "cell_type": "code",
   "execution_count": 2,
   "metadata": {},
   "outputs": [
    {
     "name": "stdout",
     "output_type": "stream",
     "text": [
      "0 variable(2.0)\n",
      "1 variable(1.4545454545454546)\n",
      "2 variable(1.1510467893775467)\n",
      "3 variable(1.0253259289766978)\n",
      "4 variable(1.0009084519430513)\n",
      "5 variable(1.0000012353089454)\n",
      "6 variable(1.000000000002289)\n",
      "7 variable(1.0)\n",
      "8 variable(1.0)\n",
      "9 variable(1.0)\n"
     ]
    }
   ],
   "source": [
    "if '__file__' in globals():\n",
    "    import os, sys\n",
    "    sys.path.append(os.path.join(os.path.dirname(__file__), '../src'))\n",
    "\n",
    "import numpy as np\n",
    "from grad import Variable, Function\n",
    "\n",
    "def f(x):\n",
    "  y = x ** 4 - 2 * x ** 2\n",
    "  return y\n",
    "\n",
    "x = Variable(np.array(2.0))\n",
    "iters = 10\n",
    "\n",
    "for i in range(iters):\n",
    "  print(i, x)\n",
    "\n",
    "  y = f(x)\n",
    "  x.cleargrad()\n",
    "  y.backward(create_graph=True)\n",
    "  # 一阶导数 梯度\n",
    "  gx = x.grad\n",
    "  x.cleargrad()\n",
    "  gx.backward()\n",
    "  # 二阶导数 梯度\n",
    "  gx2 = x.grad\n",
    "  # 牛顿法\n",
    "  x.data -= gx.data / gx2.data\n",
    "    "
   ]
  },
  {
   "attachments": {},
   "cell_type": "markdown",
   "metadata": {},
   "source": [
    "### step35"
   ]
  },
  {
   "cell_type": "code",
   "execution_count": 5,
   "metadata": {},
   "outputs": [
    {
     "data": {
      "image/png": "[encoded data removed]",
      "text/plain": [
       "<IPython.core.display.Image object>"
      ]
     },
     "execution_count": 5,
     "metadata": {},
     "output_type": "execute_result"
    }
   ],
   "source": [
    "if '__file__' in globals():\n",
    "    import os, sys\n",
    "    sys.path.append(os.path.join(os.path.dirname(__file__), '../src'))\n",
    "\n",
    "import numpy as np\n",
    "from grad import Variable, Function\n",
    "from grad.utils import plot_dot_graph\n",
    "import grad.functions as F\n",
    "\n",
    "x = Variable(np.array(1.0))\n",
    "y = F.tanh(x)\n",
    "x.name = 'x'\n",
    "y.name = 'y'\n",
    "y.backward(create_graph=True)\n",
    "\n",
    "iters = 0\n",
    "\n",
    "for i in range(iters):\n",
    "  gx = x.grad\n",
    "  x.cleargrad()\n",
    "  gx.backward(create_graph=True)\n",
    "\n",
    "gx2 = x.grad\n",
    "gx2.name = 'gx' + str(iters + 1)\n",
    "plot_dot_graph(gx2, verbose=False, to_file='tanh.png')\n"
   ]
  },
  {
   "attachments": {},
   "cell_type": "markdown",
   "metadata": {},
   "source": [
    "### step42"
   ]
  },
  {
   "cell_type": "code",
   "execution_count": 1,
   "metadata": {},
   "outputs": [
    {
     "name": "stdout",
     "output_type": "stream",
     "text": [
      "variable([[0.64433458]]) variable([1.29473389]) variable(42.296340129442335)\n",
      "variable([[1.12672345]]) variable([2.26959351]) variable(23.97380754378544)\n",
      "variable([[1.48734571]]) variable([3.00386712]) variable(13.609686745040522)\n",
      "variable([[1.75641886]]) variable([3.557186]) variable(7.747049961219976)\n",
      "variable([[1.95666851]]) variable([3.97439789]) variable(4.43057410592155)\n",
      "variable([[2.10518573]]) variable([4.28923203]) variable(2.554280381353593)\n",
      "variable([[2.21482401]]) variable([4.52705574]) variable(1.492599869047195)\n",
      "variable([[2.29524981]]) variable([4.70694745]) variable(0.8916952181756939)\n",
      "variable([[2.35373273]]) variable([4.84325585]) variable(0.5514270962227455)\n",
      "variable([[2.39573972]]) variable([4.9467725]) variable(0.3585915308319281)\n",
      "variable([[2.425382]]) variable([5.02561369]) variable(0.24915731977561134)\n",
      "variable([[2.44575118]]) variable([5.08588371]) variable(0.1869065876539789)\n",
      "variable([[2.45917205]]) variable([5.13217364]) variable(0.1513533629631488)\n",
      "variable([[2.4673927]]) variable([5.16793652]) variable(0.13091003006317087)\n",
      "variable([[2.47172747]]) variable([5.19576949]) variable(0.11902210735018467)\n",
      "variable([[2.47316455]]) variable([5.21762597]) variable(0.11198198322254362)\n",
      "variable([[2.47244676]]) variable([5.23497527]) variable(0.10769231158094321)\n",
      "variable([[2.47013247]]) variable([5.24892259]) variable(0.10496655795675108)\n",
      "variable([[2.46664127]]) variable([5.26029927]) variable(0.10313337115761934)\n",
      "variable([[2.46228843]]) variable([5.26973075]) variable(0.10181280604960243)\n",
      "variable([[2.45731071]]) variable([5.27768752]) variable(0.10078974954301652)\n",
      "variable([[2.4518859]]) variable([5.28452363]) variable(0.09994232708821599)\n",
      "variable([[2.44614738]]) variable([5.29050548]) variable(0.09920140749444821)\n",
      "variable([[2.44019517]]) variable([5.29583359]) variable(0.09852769772358984)\n",
      "variable([[2.4341042]]) variable([5.30065891]) variable(0.09789878700703991)\n",
      "variable([[2.4279305]]) variable([5.30509512]) variable(0.09730181854646197)\n",
      "variable([[2.42171596]]) variable([5.30922787]) variable(0.0967293443169877)\n",
      "variable([[2.41549177]]) variable([5.3131217]) variable(0.09617698031441604)\n",
      "variable([[2.40928112]]) variable([5.31682532]) variable(0.09564208018092028)\n",
      "variable([[2.40310116]]) variable([5.32037549]) variable(0.09512298485383605)\n",
      "variable([[2.39696452]]) variable([5.3238]) variable(0.09461859803040694)\n",
      "variable([[2.39088043]]) variable([5.32711987]) variable(0.09412814592514404)\n",
      "variable([[2.38485555]]) variable([5.33035108]) variable(0.09365104127065577)\n",
      "variable([[2.37889464]]) variable([5.33350575]) variable(0.09318680628411545)\n",
      "variable([[2.37300101]]) variable([5.33659314]) variable(0.09273502898904006)\n",
      "variable([[2.3671769]]) variable([5.33962035]) variable(0.09229533840647547)\n",
      "variable([[2.36142374]]) variable([5.34259283]) variable(0.09186739042193233)\n",
      "variable([[2.35574235]]) variable([5.34551483]) variable(0.09145085969346782)\n",
      "variable([[2.35013309]]) variable([5.34838966]) variable(0.09104543497939387)\n",
      "variable([[2.34459602]]) variable([5.35121993]) variable(0.09065081640275062)\n",
      "variable([[2.33913091]]) variable([5.35400772]) variable(0.0902667138137311)\n",
      "variable([[2.33373736]]) variable([5.35675472]) variable(0.08989284577554084)\n",
      "variable([[2.32841486]]) variable([5.35946234]) variable(0.0895289389052284)\n",
      "variable([[2.32316275]]) variable([5.36213172]) variable(0.08917472741757472)\n",
      "variable([[2.31798034]]) variable([5.36476385]) variable(0.08882995278605695)\n",
      "variable([[2.31286689]]) variable([5.3673596]) variable(0.08849436347219049)\n",
      "variable([[2.30782159]]) variable([5.36991973]) variable(0.08816771469564999)\n",
      "variable([[2.30284363]]) variable([5.3724449]) variable(0.08784976822950144)\n",
      "variable([[2.29793221]]) variable([5.37493575]) variable(0.08754029221162851)\n",
      "variable([[2.29308646]]) variable([5.37739285]) variable(0.08723906096725743)\n",
      "variable([[2.28830557]]) variable([5.37981674]) variable(0.08694585483964615)\n",
      "variable([[2.2835887]]) variable([5.38220792]) variable(0.0866604600272269)\n",
      "variable([[2.278935]]) variable([5.38456689]) variable(0.08638266842618712)\n",
      "variable([[2.27434366]]) variable([5.38689411]) variable(0.0861122774778659)\n",
      "variable([[2.26981384]]) variable([5.38919004]) variable(0.08584909002056745)\n",
      "variable([[2.26534474]]) variable([5.39145512]) variable(0.08559291414552149)\n",
      "variable([[2.26093555]]) variable([5.39368978]) variable(0.08534356305679344)\n",
      "variable([[2.25658547]]) variable([5.39589443]) variable(0.08510085493499035)\n",
      "variable([[2.25229371]]) variable([5.39806949]) variable(0.08486461280463413)\n",
      "variable([[2.2480595]]) variable([5.40021536]) variable(0.08463466440508784)\n",
      "variable([[2.24388206]]) variable([5.40233244]) variable(0.08441084206493275)\n",
      "variable([[2.23976064]]) variable([5.40442111]) variable(0.08419298257969864)\n",
      "variable([[2.23569448]]) variable([5.40648177]) variable(0.08398092709285435)\n",
      "variable([[2.23168285]]) variable([5.40851479]) variable(0.08377452097997208)\n",
      "variable([[2.22772501]]) variable([5.41052054]) variable(0.08357361373597812)\n",
      "variable([[2.22382025]]) variable([5.41249938]) variable(0.08337805886540826)\n",
      "variable([[2.21996785]]) variable([5.41445169]) variable(0.08318771377558704)\n",
      "variable([[2.21616712]]) variable([5.41637782]) variable(0.08300243967265336)\n",
      "variable([[2.21241735]]) variable([5.41827811]) variable(0.08282210146035615)\n",
      "variable([[2.20871786]]) variable([5.42015291]) variable(0.08264656764154595)\n",
      "variable([[2.20506799]]) variable([5.42200258]) variable(0.08247571022229121)\n",
      "variable([[2.20146706]]) variable([5.42382744]) variable(0.08230940461854906)\n",
      "variable([[2.19791443]]) variable([5.42562782]) variable(0.08214752956532231)\n",
      "variable([[2.19440943]]) variable([5.42740407]) variable(0.08198996702823673)\n",
      "variable([[2.19095144]]) variable([5.42915649]) variable(0.08183660211747391)\n",
      "variable([[2.18753983]]) variable([5.43088541]) variable(0.08168732300399718)\n",
      "variable([[2.18417396]]) variable([5.43259114]) variable(0.08154202083800904)\n",
      "variable([[2.18085323]]) variable([5.434274]) variable(0.08140058966958151)\n",
      "variable([[2.17757703]]) variable([5.4359343]) variable(0.08126292637140048)\n",
      "variable([[2.17434477]]) variable([5.43757232]) variable(0.0811289305635685)\n",
      "variable([[2.17115586]]) variable([5.43918838]) variable(0.08099850454041051)\n",
      "variable([[2.16800971]]) variable([5.44078277]) variable(0.0808715531992303)\n",
      "variable([[2.16490575]]) variable([5.44235578]) variable(0.08074798397096412)\n",
      "variable([[2.16184341]]) variable([5.44390769]) variable(0.08062770675268231)\n",
      "variable([[2.15882214]]) variable([5.44543879]) variable(0.08051063384188899)\n",
      "variable([[2.15584139]]) variable([5.44694936]) variable(0.08039667987257197)\n",
      "variable([[2.15290062]]) variable([5.44843967]) variable(0.08028576175295649)\n",
      "variable([[2.14999928]]) variable([5.44990999]) variable(0.08017779860491725)\n",
      "variable([[2.14713684]]) variable([5.4513606]) variable(0.08007271170500452)\n",
      "variable([[2.1443128]]) variable([5.45279175]) variable(0.07997042442704135)\n",
      "variable([[2.14152662]]) variable([5.45420371]) variable(0.07987086218625004)\n",
      "variable([[2.13877781]]) variable([5.45559674]) variable(0.07977395238486742)\n",
      "variable([[2.13606587]]) variable([5.45697108]) variable(0.07967962435920853)\n",
      "variable([[2.13339029]]) variable([5.458327]) variable(0.07958780932814088)\n",
      "variable([[2.13075059]]) variable([5.45966473]) variable(0.07949844034293135)\n",
      "variable([[2.12814629]]) variable([5.46098452]) variable(0.07941145223842926)\n",
      "variable([[2.12557692]]) variable([5.46228661]) variable(0.07932678158554966)\n",
      "variable([[2.123042]]) variable([5.46357124]) variable(0.07924436664502324)\n",
      "variable([[2.12054108]]) variable([5.46483864]) variable(0.07916414732237737)\n",
      "variable([[2.11807369]]) variable([5.46608905]) variable(0.07908606512411756)\n"
     ]
    }
   ],
   "source": [
    "if '__file__' in globals():\n",
    "    import os, sys\n",
    "    sys.path.append(os.path.join(os.path.dirname(__file__), '../src'))\n",
    "\n",
    "import numpy as np\n",
    "from grad import Variable\n",
    "import grad.functions as F\n",
    "\n",
    "np.random.seed(0)\n",
    "x = np.random.rand(100, 1)\n",
    "y = 5 + 2 * x + np.random.rand(100, 1)\n",
    "x, y = Variable(x), Variable(y)\n",
    "\n",
    "W = Variable(np.zeros((1, 1)))\n",
    "b = Variable(np.zeros(1))\n",
    "\n",
    "def predict(x):\n",
    "  y = F.matmul(x, W) + b\n",
    "  return y\n",
    "\n",
    "def mean_squared_error(x0, x1):\n",
    "  diff = x0 - x1\n",
    "  return F.sum(diff ** 2) / len(diff)\n",
    "\n",
    "lr = 0.1\n",
    "iters = 100\n",
    "\n",
    "for i in range(iters):\n",
    "  y_pred = predict(x)\n",
    "  loss = mean_squared_error(y, y_pred)\n",
    "\n",
    "  W.cleargrad()\n",
    "  b.cleargrad()\n",
    "  loss.backward()\n",
    "\n",
    "  W.data -= lr * W.grad.data\n",
    "  b.data -= lr * b.grad.data\n",
    "  print(W, b, loss)"
   ]
  },
  {
   "attachments": {},
   "cell_type": "markdown",
   "metadata": {},
   "source": [
    "### step43"
   ]
  },
  {
   "cell_type": "code",
   "execution_count": 1,
   "metadata": {},
   "outputs": [
    {
     "name": "stdout",
     "output_type": "stream",
     "text": [
      "variable(0.8473695850105871)\n",
      "variable(0.2514286285183606)\n",
      "variable(0.24759485466749873)\n",
      "variable(0.23786120447054826)\n",
      "variable(0.2122223133310296)\n",
      "variable(0.16742181117834185)\n",
      "variable(0.09681932619992661)\n",
      "variable(0.07849528290602331)\n",
      "variable(0.0774972955299115)\n",
      "variable(0.07722132399559314)\n"
     ]
    }
   ],
   "source": [
    "if '__file__' in globals():\n",
    "    import os, sys\n",
    "    sys.path.append(os.path.join(os.path.dirname(__file__), '../src'))\n",
    "\n",
    "import numpy as np\n",
    "from grad import Variable\n",
    "import grad.functions as F\n",
    "\n",
    "np.random.seed(0)\n",
    "x = np.random.rand(100, 1)\n",
    "y = np.sin(2 * np.pi * x) + np.random.rand(100, 1)\n",
    "\n",
    "I, H, O = 1, 10, 1\n",
    "W1 = Variable(0.01 * np.random.randn(I, H))\n",
    "b1 = Variable(np.zeros(H))\n",
    "W2 = Variable(0.01 * np.random.randn(H, O))\n",
    "b2 = Variable(np.zeros(O))\n",
    "\n",
    "def predict(x):\n",
    "  y = F.linear(x, W1, b1)\n",
    "  y = F.sigmoid(y)\n",
    "  y = F.linear(y, W2, b2)\n",
    "  return y\n",
    "\n",
    "lr = 0.2\n",
    "iters = 10000\n",
    "\n",
    "for i in range(iters):\n",
    "  y_pred = predict(x)\n",
    "  loss = F.mean_squared_error(y, y_pred)\n",
    "\n",
    "  W1.cleargrad()\n",
    "  b1.cleargrad()\n",
    "  W2.cleargrad()\n",
    "  b2.cleargrad()\n",
    "  loss.backward()\n",
    "\n",
    "  W1.data -= lr * W1.grad.data\n",
    "  b1.data -= lr * b1.grad.data\n",
    "  W2.data -= lr * W2.grad.data\n",
    "  b2.data -= lr * b2.grad.data\n",
    "  if i % 1000 == 0:\n",
    "    print(loss)"
   ]
  },
  {
   "attachments": {},
   "cell_type": "markdown",
   "metadata": {},
   "source": [
    "### step44"
   ]
  },
  {
   "cell_type": "code",
   "execution_count": 1,
   "metadata": {},
   "outputs": [
    {
     "name": "stdout",
     "output_type": "stream",
     "text": [
      "variable(0.8165178492839196)\n",
      "variable(0.24990280802148895)\n",
      "variable(0.24609876581126014)\n",
      "variable(0.2372159081431807)\n",
      "variable(0.20793216413350177)\n",
      "variable(0.12311905720649349)\n",
      "variable(0.07888166506355149)\n",
      "variable(0.07655073683421633)\n",
      "variable(0.07637803086238223)\n",
      "variable(0.07618764131185574)\n"
     ]
    }
   ],
   "source": [
    "if '__file__' in globals():\n",
    "    import os, sys\n",
    "    sys.path.append(os.path.join(os.path.dirname(__file__), '../src'))\n",
    "\n",
    "import numpy as np\n",
    "from grad import Variable\n",
    "import grad.functions as F\n",
    "import grad.layers as L\n",
    "\n",
    "np.random.seed(0)\n",
    "x = np.random.rand(100, 1)\n",
    "y = np.sin(2 * np.pi * x) + np.random.rand(100, 1)\n",
    "\n",
    "l1 = L.Linear(10)\n",
    "l2 = L.Linear(1)\n",
    "\n",
    "def predict(x):\n",
    "  y = l1(x)\n",
    "  y = F.sigmoid(y)\n",
    "  y = l2(y)\n",
    "  return y\n",
    "\n",
    "lr = 0.2\n",
    "iters = 10000\n",
    "\n",
    "for i in range(iters):\n",
    "  y_pred = predict(x)\n",
    "  loss = F.mean_squared_error(y, y_pred)\n",
    "\n",
    "  l1.cleargrads()\n",
    "  l2.cleargrads()\n",
    "  loss.backward()\n",
    "\n",
    "  for l in [l1, l2]:\n",
    "    for p in l.params():\n",
    "      p.data -= lr * p.grad.data\n",
    "  if i % 1000 == 0:\n",
    "    print(loss)"
   ]
  },
  {
   "attachments": {},
   "cell_type": "markdown",
   "metadata": {},
   "source": [
    "### step45"
   ]
  },
  {
   "cell_type": "code",
   "execution_count": 2,
   "metadata": {},
   "outputs": [
    {
     "name": "stdout",
     "output_type": "stream",
     "text": [
      "variable(0.8165178492839196)\n",
      "variable(0.24990280802148895)\n",
      "variable(0.24609876581126014)\n",
      "variable(0.2372159081431807)\n",
      "variable(0.20793216413350177)\n",
      "variable(0.12311905720649349)\n",
      "variable(0.07888166506355149)\n",
      "variable(0.07655073683421633)\n",
      "variable(0.07637803086238223)\n",
      "variable(0.07618764131185574)\n"
     ]
    }
   ],
   "source": [
    "if '__file__' in globals():\n",
    "    import os, sys\n",
    "    sys.path.append(os.path.join(os.path.dirname(__file__), '../src'))\n",
    "\n",
    "from grad import Variable, Model\n",
    "import grad.functions as F\n",
    "import grad.layers as L\n",
    "import numpy as np\n",
    "\n",
    "np.random.seed(0)\n",
    "x = np.random.rand(100, 1)\n",
    "y = np.sin(2 * np.pi * x) + np.random.rand(100, 1)\n",
    "\n",
    "l1 = L.Linear(10)\n",
    "l2 = L.Linear(1)\n",
    "\n",
    "lr = 0.2\n",
    "iters = 10000\n",
    "hidden_size = 10\n",
    "\n",
    "class TwoLayerNet(Model):\n",
    "    def __init__(self, hidden_size, out_size):\n",
    "        super().__init__()\n",
    "        self.l1 = L.Linear(hidden_size)\n",
    "        self.l2 = L.Linear(out_size)\n",
    "    \n",
    "    def forward(self, x):\n",
    "        y = F.sigmoid(self.l1(x))\n",
    "        y = self.l2(y)\n",
    "        return y\n",
    "    \n",
    "model = TwoLayerNet(hidden_size, 1)\n",
    "\n",
    "for i in range(iters):\n",
    "    y_pred = model(x)\n",
    "    loss = F.mean_squared_error(y, y_pred)\n",
    "    \n",
    "    model.cleargrads()\n",
    "    loss.backward()\n",
    "    \n",
    "    for p in model.params():\n",
    "        p.data -= lr * p.grad.data\n",
    "    if i % 1000 == 0:\n",
    "        print(loss)"
   ]
  },
  {
   "attachments": {},
   "cell_type": "markdown",
   "metadata": {},
   "source": [
    "### step51"
   ]
  },
  {
   "cell_type": "code",
   "execution_count": null,
   "metadata": {},
   "outputs": [],
   "source": [
    "if '__file__' in globals():\n",
    "    import os, sys\n",
    "    sys.path.append(os.path.join(os.path.dirname(__file__), '../src'))\n",
    "\n",
    "from grad import Variable, Model\n",
    "import grad.functions as F\n",
    "import grad.layers as L\n",
    "import numpy as np\n",
    "import grad\n",
    "\n",
    "np.random.seed(0)\n",
    "\n",
    "max_epoch = 5\n",
    "batch_size = 100\n",
    "hidden_size = 1000\n",
    "\n",
    "train_set = grad.datasets.MNIST(train=True)\n",
    "test_set = grad.datasets.MNIST(train=False) "
   ]
  }
 ],
 "metadata": {
  "kernelspec": {
   "display_name": "aizero-FmzNW-63-py3.10",
   "language": "python",
   "name": "python3"
  },
  "language_info": {
   "codemirror_mode": {
    "name": "ipython",
    "version": 3
   },
   "file_extension": ".py",
   "mimetype": "text/x-python",
   "name": "python",
   "nbconvert_exporter": "python",
   "pygments_lexer": "ipython3",
   "version": "3.10.12"
  },
  "orig_nbformat": 4,
  "vscode": {
   "interpreter": {
    "hash": "696483428f94258fb20f31ea19bb4743563cbacc675155017f0446f3f58b90c7"
   }
  }
 },
 "nbformat": 4,
 "nbformat_minor": 2
}
